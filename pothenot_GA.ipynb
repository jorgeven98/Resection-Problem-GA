{
 "cells": [
  {
   "cell_type": "markdown",
   "metadata": {},
   "source": [
    "\n",
    "# <center>Resection problem in 3D</center>\n",
    "\n",
    "  \\----------------------------------------------------------  \n",
    "Author: Jorge Ventura Gil  \n",
    "Date:   October, 2023  \n",
    "License: BSD-3  \n",
    "Version: 1.0  \n",
    "  \\----------------------------------------------------------  \n",
    "\n",
    "The first step is to include the libraries and dependencies to work with GA."
   ]
  },
  {
   "cell_type": "code",
   "execution_count": 2,
   "metadata": {},
   "outputs": [],
   "source": [
    "from clifford import *\n",
    "from clifford.g2c import *\n",
    "from math import *"
   ]
  },
  {
   "attachments": {},
   "cell_type": "markdown",
   "metadata": {},
   "source": [
    "### Functions\n",
    "\n",
    "\n",
    "- **GetAngles**    \n",
    "This auxiliary function is in charge of obtaining the angles alpha, beta and gamma knowing the position of the points A, B, C and P. \n",
    "\n",
    "- **VGAMethod_2D**  \n",
    "The function applies the VGA-based method for solving the 2D rejection problem.\n",
    "\n",
    "- **CGA_Cassini_Method**  \n",
    "The function applies the CGA Cassini method for solving the 2D rejection problem.\n",
    "\n",
    "- **CGA_Collins_Method**  \n",
    "The function applies the CGA Collins method for solving the 2D rejection problem."
   ]
  },
  {
   "cell_type": "code",
   "execution_count": 3,
   "metadata": {},
   "outputs": [],
   "source": [
    "def GetAngles(A, B, C, P):\n",
    "    \n",
    "    ua = [A[0] - P[0], A[1] - P[1]]\n",
    "    ub = [B[0] - P[0], B[1] - P[1]]\n",
    "    uc = [C[0] - P[0], C[1] - P[1]]\n",
    "    \n",
    "    theta_ua = atan2(ua[1], ua[0])\n",
    "    theta_ub = atan2(ub[1], ub[0])\n",
    "    theta_uc = atan2(uc[1], uc[0])\n",
    "    \n",
    "    \n",
    "    print(\"Angles ----> A: %f, B: %f, C: %f\\n\"%(theta_ua*180/pi, theta_ub*180/pi, theta_uc*180/pi))\n",
    "    \n",
    "    alpha =  theta_ua - theta_ub\n",
    "    beta =  theta_ub - theta_uc\n",
    "    \n",
    "    # If P is aligned with A and B or B and C, a new assignment of the points is necessary.\n",
    "    if beta == 0:\n",
    "        alpha =  theta_ub - theta_ua\n",
    "        beta =  theta_ua - theta_uc     \n",
    "        print(\"The angle beta = 0 ---> The position of A and B will be interchanged.\")\n",
    "        A[:], B[:] = B[:], A[:]\n",
    "        \n",
    "    if alpha == 0:\n",
    "        alpha =  theta_ua - theta_uc\n",
    "        beta =  theta_uc - theta_ub\n",
    "        \n",
    "        print(\"The angle alpha = 0 ---> The position of C and B will be interchanged.\")\n",
    "        C[:], B[:] = B[:], C[:]\n",
    "    \n",
    "    # if we are working in 2 dimensions, gamma is not used.\n",
    "    gamma = None\n",
    "    if len(A) == 3:\n",
    "        gamma = atan2(A[2] - P[2], sqrt(ua[0]**2 + ua[1]**2))\n",
    "        \n",
    "\n",
    "    return alpha, beta, gamma\n",
    "\n",
    "#=========================================================================================================\n",
    "\n",
    "def VGA_Method_2D(A,B,C,alpha,beta):\n",
    "    \n",
    "    \n",
    "    v1 = (A[0]-B[0])*e1 + (A[1]-B[1])*e2\n",
    "    v2 = (C[0]-B[0])*e1 + (C[1]-B[1])*e2\n",
    "        \n",
    "    d1 = v1 + (v1/tan(alpha))*e12\n",
    "    d2 = v2 - (v2/tan(beta))*e12\n",
    "    d = d2-d1\n",
    "    \n",
    "    try:\n",
    "        p = (d1^d)|d.inv()\n",
    "        P = [B[0] + p.as_array()[1], B[1] + p.as_array()[2]]\n",
    "        \n",
    "    except Exception as err:\n",
    "        print(\"Prohibited circle ---> \",err)\n",
    "        \n",
    "    return P\n",
    "\n",
    "#=========================================================================================================\n",
    "\n",
    "def CGA_Cassini_Method(A,B,C,alpha,beta):\n",
    "    \n",
    "    a_v = A[0]*e1 + A[1]*e2 \n",
    "    b_v = B[0]*e1 + B[1]*e2\n",
    "    c_v = C[0]*e1 + C[1]*e2\n",
    "\n",
    "    a = up(a_v)\n",
    "    b = up(b_v)\n",
    "    c = up(c_v)\n",
    "\n",
    "    LAB = a ^ b ^ einf\n",
    "    LBC = c ^ b ^ einf\n",
    "\n",
    "    midAB = (a - b).dual().normal()\n",
    "    midBC = (b - c).dual().normal()\n",
    "    \n",
    "    Ra = e**(-((alpha - pi/2)/2)*e12)\n",
    "    Rb = e**(-((pi/2 - beta)/2)*e12)\n",
    "    \n",
    "    Ta = 1 + einf*(a_v)/2\n",
    "    Tc = 1 + einf*(c_v)/2\n",
    "    \n",
    "    LAO = (Ta*Ra*~Ta)*LAB*~(Ta*Ra*~Ta)\n",
    "    LCO = (Tc*Rb*~Tc)*LBC*~(Tc*Rb*~Tc)\n",
    "    \n",
    "    O1 = up(down(eo << (LAO.dual() ^ midAB.dual()).dual().normal()))\n",
    "    O2 = up(down(eo << (LCO.dual() ^ midBC.dual()).dual().normal()))\n",
    "    \n",
    "    R1 = (sqrt(-2*(O1 << b)))\n",
    "    R2 = (sqrt(-2*(O2 << b)))\n",
    "\n",
    "    C1 = (O1 - 1/2*(R1**2)*einf).normal()\n",
    "    C2 = (O2 - 1/2*(R2**2)*einf).normal()\n",
    "\n",
    "    P = (C1 ^ C2).dual()\n",
    "    \n",
    "    P1 = (sqrt(P << P) + P)/(einf << P)\n",
    "    P2 = (-sqrt(P << P) + P)/(einf << P)\n",
    "\n",
    "    \n",
    "    if down(P1) == down(b):\n",
    "        return down(P2)\n",
    "\n",
    "    else:\n",
    "        return down(P1)\n",
    "    \n",
    "#==========================================================================================================\n",
    "    \n",
    "def CGA_Collins_Method(A,B,C,alpha,beta):\n",
    "    \n",
    "    a_v = A[0]*e1 + A[1]*e2 \n",
    "    b_v = B[0]*e1 + B[1]*e2\n",
    "    c_v = C[0]*e1 + C[1]*e2\n",
    "\n",
    "    a = up(a_v)\n",
    "    b = up(b_v)\n",
    "    c = up(c_v)\n",
    "    \n",
    "    LAC = a ^ c ^ einf\n",
    "    \n",
    "    Rb = e**(-(beta/2)*e12)\n",
    "    Ra = e**(-(-alpha/2)*e12)\n",
    "    \n",
    "    Ta = 1 + einf*(a_v)/2\n",
    "    Tc = 1 + einf*(c_v)/2\n",
    "    \n",
    "    L1 = (Ta*Rb*~Ta)*LAC*~(Ta*Rb*~Ta)\n",
    "    L2 = (Tc*Ra*~Tc)*LAC*~(Tc*Ra*~Tc)\n",
    "    \n",
    "    # L1 and L2 are parallel\n",
    "    if (einf<<L1) == (einf<<L2):\n",
    "    \n",
    "        V = einf << L1\n",
    "        LEB = b ^ V\n",
    "        F = (LAC.dual() ^ LEB.dual()).dual()\n",
    "        P = up(down(eo<<F))\n",
    "        \n",
    "        return P\n",
    "    \n",
    "    # L1 and L2 intersect\n",
    "    E = up(down(eo << (L1.dual() ^ L2.dual()).dual()))\n",
    "    C = a ^ c ^ E\n",
    "    LEB = E ^ b ^ einf\n",
    "\n",
    "    P = (C.dual() ^ LEB.dual()).dual().normal()\n",
    "    \n",
    "    P1 = (sqrt(P << P) + P)/(einf << P)\n",
    "    P2 = (-sqrt(P << P) + P)/(einf << P)\n",
    "    \n",
    "    if down(P1) == down(E):\n",
    "        return down(P2)\n",
    "    else:\n",
    "        return down(P1)\n"
   ]
  },
  {
   "cell_type": "markdown",
   "metadata": {},
   "source": [
    "### Examples\n",
    "\n",
    "1. Point P outside the triangle formed by A, B and C"
   ]
  },
  {
   "cell_type": "code",
   "execution_count": 52,
   "metadata": {},
   "outputs": [],
   "source": [
    "A = [-7,-1]\n",
    "B = [1,5]\n",
    "C = [15.6,6]\n",
    "P = [3.12,-18.5]"
   ]
  },
  {
   "cell_type": "markdown",
   "metadata": {},
   "source": [
    "2. Point P inside the triangle formed by points A, B, and C"
   ]
  },
  {
   "cell_type": "code",
   "execution_count": 4,
   "metadata": {},
   "outputs": [],
   "source": [
    "A = [-5,4]\n",
    "B = [3.5,10]\n",
    "C = [7.6,-1]\n",
    "P = [3,3.5]"
   ]
  },
  {
   "cell_type": "markdown",
   "metadata": {},
   "source": [
    "3. Point P aligned with A and C"
   ]
  },
  {
   "cell_type": "code",
   "execution_count": 6,
   "metadata": {},
   "outputs": [],
   "source": [
    "A = [5,6]\n",
    "B = [0,1]\n",
    "C = [3,12]\n",
    "P = [8,-3]"
   ]
  },
  {
   "cell_type": "markdown",
   "metadata": {},
   "source": [
    "Choose a set of points and run the following code to check how each method is able to correctly calculate the position of point P"
   ]
  },
  {
   "cell_type": "code",
   "execution_count": 7,
   "metadata": {},
   "outputs": [
    {
     "name": "stdout",
     "output_type": "stream",
     "text": [
      "Angles ----> A: 108.434949, B: 153.434949, C: 108.434949\n",
      "\n",
      "ALPHA: -45.000000º\n",
      "BETA: 45.000000º\n",
      "\n",
      "================\n",
      "VGA-based Method\n",
      "================\n",
      "\n",
      "The position of point P is: [8.000000, -3.000000]\n",
      "\n",
      "==================\n",
      "CGA-Cassini Method\n",
      "==================\n",
      "\n",
      "The position of point P is: [8.000000, -3.000000]\n",
      "\n",
      "==================\n",
      "CGA-Collins Method\n",
      "==================\n",
      "\n",
      "The position of point P is: [8.000000, -3.000000]\n"
     ]
    }
   ],
   "source": [
    "alpha, beta, _ = GetAngles(A,B,C,P)\n",
    "conv = 180/pi\n",
    "print(\"ALPHA: %fº\\nBETA: %fº\"%(alpha*conv,beta*conv))\n",
    "\n",
    "print(\"\\n================\\nVGA-based Method\\n================\\n\")\n",
    "Pvga = VGA_Method_2D(A,B,C,alpha,beta)\n",
    "print(\"The position of point P is: [%f, %f]\"%(Pvga[0],Pvga[1]))\n",
    "\n",
    "print(\"\\n==================\\nCGA-Cassini Method\\n==================\\n\")\n",
    "Pcass = CGA_Cassini_Method(A,B,C,alpha,beta)\n",
    "print(\"The position of point P is: [%f, %f]\"%(Pcass.as_array()[1],Pcass.as_array()[2]))\n",
    "\n",
    "print(\"\\n==================\\nCGA-Collins Method\\n==================\\n\")\n",
    "Pcoll = CGA_Collins_Method(A,B,C,alpha,beta)\n",
    "print(\"The position of point P is: [%f, %f]\"%(Pcoll.as_array()[1],Pcoll.as_array()[2]))"
   ]
  },
  {
   "cell_type": "markdown",
   "metadata": {},
   "source": [
    "## Solving the problem in 3D\n",
    "\n",
    "### Function\n",
    "- **CGA_Method_3D**  \n",
    "This method is based on using any of the previous functions to solve the problem in 2D. With the 2D solution we obtain the remaining coordinate using the angle _gamma_."
   ]
  },
  {
   "cell_type": "code",
   "execution_count": 13,
   "metadata": {},
   "outputs": [],
   "source": [
    "from clifford.g3c import *\n",
    "from clifford.tools.g3c import *\n",
    "\n",
    "def CGA_Method_3D(A,B,C,alpha,beta,gamma, P2d):\n",
    "    \n",
    "    P_v = P2d[0]*e1 + P2d[1]*e2\n",
    "    P_c = up(P_v)\n",
    "    \n",
    "    a = A[0]*e1 + A[1]*e2 + A[2]*e3\n",
    "    b = B[0]*e1 + B[1]*e2 + B[2]*e3\n",
    "    c = C[0]*e1 + C[1]*e2 + C[2]*e3\n",
    "        \n",
    "    A = up(a)\n",
    "    B = up(b)  \n",
    "    C = up(c)\n",
    "\n",
    "    L = P_c ^ up(P_v + e3) ^ einf\n",
    "    Na = ((A << L).dual()) ^ einf\n",
    "    F = (Na.dual() ^ L.dual()).dual()\n",
    "    g =  up(down(eo << F))\n",
    "\n",
    "    P = down(g) + e3 * tan(-gamma) * sqrt(-2* (g << A))\n",
    "\n",
    "    return P\n",
    "    "
   ]
  },
  {
   "cell_type": "markdown",
   "metadata": {},
   "source": [
    "3D point configuration"
   ]
  },
  {
   "cell_type": "code",
   "execution_count": 10,
   "metadata": {},
   "outputs": [],
   "source": [
    "A = [1,15,0]\n",
    "B = [-4,1,3]\n",
    "C = [3,-8,2.6]\n",
    "P = [6.81034,-6.63073,14.53887809]"
   ]
  },
  {
   "cell_type": "code",
   "execution_count": 12,
   "metadata": {},
   "outputs": [
    {
     "name": "stdout",
     "output_type": "stream",
     "text": [
      "Angles ----> A: 105.035590, B: 144.782755, C: -160.233776\n",
      "\n",
      "ALPHA: -39.747164 º\n",
      "BETA: 305.016531 º\n",
      "GAMMA: -32.988778 º\n",
      "The position of point P is: [6.810340, -6.630730, 14.538878]\n"
     ]
    }
   ],
   "source": [
    "alpha, beta, gamma = GetAngles(A,B,C,P)\n",
    "conv = 180/pi\n",
    "print(\"ALPHA: %f º\\nBETA: %f º\\nGAMMA: %f º\"%(alpha*conv,beta*conv,gamma*conv))\n",
    "\n",
    "p = CGA_Method_3D(A,B,C,alpha,beta,gamma,P)\n",
    "print(\"The position of point P is: [%f, %f, %f]\"%(p.as_array()[1],p.as_array()[2],p.as_array()[3]))"
   ]
  },
  {
   "cell_type": "markdown",
   "metadata": {},
   "source": [
    "## Time Measurement"
   ]
  },
  {
   "cell_type": "code",
   "execution_count": 14,
   "metadata": {},
   "outputs": [
    {
     "name": "stdout",
     "output_type": "stream",
     "text": [
      "Angles ----> A: -60.395549, B: 29.852076, C: -22.921419\n",
      "\n",
      "Cassini time: 0.534005\n",
      "Collins time: 0.463000\n",
      "VGA time: 0.062001\n"
     ]
    }
   ],
   "source": [
    "import time\n",
    "from clifford.g2c import *\n",
    "\n",
    "A = [-10,-5]\n",
    "B = [-1,6]\n",
    "C = [5,-8,]\n",
    "P = [-12.5,-0.6]\n",
    "\n",
    "alpha, beta, _ = GetAngles(A,B,C,P)\n",
    "\n",
    "Pf = CGA_Cassini_Method(A,B,C, alpha, beta)\n",
    "Pf = CGA_Collins_Method(A,B,C, alpha, beta)\n",
    "Pf = VGA_Method_2D(A,B,C, alpha, beta)\n",
    "\n",
    "it = 1000\n",
    "\n",
    "# Cassini\n",
    "t_ini = time.time()\n",
    "\n",
    "for i in range(it):\n",
    "    CGA_Cassini_Method(A,B,C, alpha, beta)\n",
    "\n",
    "t_end = time.time()\n",
    "\n",
    "t_cassini = t_end - t_ini\n",
    "\n",
    "#Collins\n",
    "t_ini = time.time()\n",
    "\n",
    "for i in range(it):\n",
    "    CGA_Collins_Method(A,B,C, alpha, beta)\n",
    "\n",
    "t_end = time.time()\n",
    "\n",
    "t_collins = t_end - t_ini\n",
    "\n",
    "#VGA\n",
    "t_ini = time.time()\n",
    "\n",
    "for i in range(it):\n",
    "    VGA_Method_2D(A,B,C, alpha, beta)\n",
    "\n",
    "t_end = time.time()\n",
    "\n",
    "t_vga = t_end - t_ini\n",
    "\n",
    "print(\"Cassini time: %f\"%(t_cassini))\n",
    "print(\"Collins time: %f\"%(t_collins))\n",
    "print(\"VGA time: %f\"%(t_vga))\n"
   ]
  }
 ],
 "metadata": {
  "kernelspec": {
   "display_name": "Python 3",
   "language": "python",
   "name": "python3"
  },
  "language_info": {
   "codemirror_mode": {
    "name": "ipython",
    "version": 3
   },
   "file_extension": ".py",
   "mimetype": "text/x-python",
   "name": "python",
   "nbconvert_exporter": "python",
   "pygments_lexer": "ipython3",
   "version": "3.10.11"
  },
  "orig_nbformat": 4
 },
 "nbformat": 4,
 "nbformat_minor": 2
}
